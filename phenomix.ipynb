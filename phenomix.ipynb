{
 "cells": [
  {
   "cell_type": "code",
   "execution_count": 1,
   "metadata": {},
   "outputs": [
    {
     "name": "stderr",
     "output_type": "stream",
     "text": [
      "/Users/bms20/anaconda3/envs/uce/lib/python3.12/site-packages/anndata/compat/__init__.py:311: FutureWarning: Moving element from .uns['neighbors']['distances'] to .obsp['distances'].\n",
      "\n",
      "This is where adjacency matrices should go now.\n",
      "  warn(\n"
     ]
    }
   ],
   "source": [
    "import scanpy as sc\n",
    "import anndata\n",
    "import os\n",
    "\n",
    "ad = anndata.read_h5ad(os.path.expanduser('~/Downloads/hpo.h5ad'))"
   ]
  },
  {
   "cell_type": "code",
   "execution_count": 2,
   "metadata": {},
   "outputs": [
    {
     "name": "stdout",
     "output_type": "stream",
     "text": [
      "Downloading ./model_files/species_chrom.csv from https://figshare.com/ndownloader/files/42706558 ...\n",
      "\n",
      "100%|█████████████████████████████████████| 4.10M/4.10M [00:00<00:00, 27.4MiB/s]\n",
      "Downloading ./model_files/species_offsets.pkl from https://figshare.com/ndownloader/files/42706555 ...\n",
      "\n",
      "100%|█████████████████████████████████████████| 139/139 [00:00<00:00, 52.6kiB/s]\n",
      "Downloading model_files/protein_embeddings.tar.gz from https://figshare.com/ndownloader/files/42715213 ...\n",
      "\n",
      "100%|█████████████████████████████████████| 2.74G/2.74G [04:11<00:00, 10.9MiB/s]\n",
      "Done!\n",
      "Downloading ./model_files/all_tokens.torch from https://figshare.com/ndownloader/files/42706585 ...\n",
      "\n",
      "100%|█████████████████████████████████████| 2.98G/2.98G [05:16<00:00, 9.41MiB/s]\n",
      "Using sample AnnData: 10k pbmcs dataset\n",
      "Downloading ./data/10k_pbmcs_proc.h5ad from https://figshare.com/ndownloader/files/42706966 ...\n",
      "\n",
      "100%|█████████████████████████████████████| 85.6M/85.6M [00:11<00:00, 7.66MiB/s]\n",
      "Using sample 4 layer model\n",
      "Downloading ./model_files/4layer_model.torch from https://figshare.com/ndownloader/files/42706576 ...\n",
      "\n",
      "100%|█████████████████████████████████████| 3.40G/3.40G [07:15<00:00, 7.81MiB/s]\n",
      "Proccessing 10k_pbmcs_proc\n"
     ]
    }
   ],
   "source": [
    "!python eval_single_anndata.py"
   ]
  },
  {
   "cell_type": "code",
   "execution_count": 4,
   "metadata": {},
   "outputs": [
    {
     "name": "stdout",
     "output_type": "stream",
     "text": [
      "Proccessing hpo\n"
     ]
    }
   ],
   "source": [
    "!python eval_single_anndata.py --adata_path /Users/bms20/Downloads/hpo.h5ad --dir output --species human --model_loc model_files/4layer_model.torch --batch_size 100\n"
   ]
  },
  {
   "cell_type": "code",
   "execution_count": null,
   "metadata": {},
   "outputs": [],
   "source": []
  }
 ],
 "metadata": {
  "kernelspec": {
   "display_name": "uce",
   "language": "python",
   "name": "python3"
  },
  "language_info": {
   "codemirror_mode": {
    "name": "ipython",
    "version": 3
   },
   "file_extension": ".py",
   "mimetype": "text/x-python",
   "name": "python",
   "nbconvert_exporter": "python",
   "pygments_lexer": "ipython3",
   "version": "3.12.3"
  }
 },
 "nbformat": 4,
 "nbformat_minor": 2
}
